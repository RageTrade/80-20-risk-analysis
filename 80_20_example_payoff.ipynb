{
 "cells": [
  {
   "cell_type": "code",
   "execution_count": 1,
   "id": "e91559be-0245-4861-b66d-b515d0f418f1",
   "metadata": {},
   "outputs": [],
   "source": [
    "# this code provides a rough estimate for the APY & fee generation \n",
    "# bull, crab, and bear cases referenced in Rage docs"
   ]
  },
  {
   "cell_type": "code",
   "execution_count": 2,
   "id": "2c0005e2-215a-4b96-8548-b57ea3d1cc56",
   "metadata": {},
   "outputs": [],
   "source": [
    "def calculate_rage_IL(initial_investment, eth_percent_increase):\n",
    "    eth_decimal_increase = 1 + eth_percent_increase / 100\n",
    "    return initial_investment * ((eth_decimal_increase + 1) / 2 - eth_decimal_increase**(1/2))\n",
    "\n",
    "def calculate_post_apy_usdc_value(value, apy, n_months):\n",
    "    return value * (1 + apy / 100)**(n_months / 12)\n",
    "\n",
    "def calculate_post_apy_eth_value(value, apy, n_months, percent_increase):\n",
    "    return (1 + percent_increase / 100) * value * (1 + apy / 100)**(n_months / 12)\n",
    "\n",
    "def calculate_fees(initial_investment, fee_apy, n_months):\n",
    "    return ((1 + fee_apy / 100)**(n_months / 12) - 1) * initial_investment\n",
    "\n",
    "def calculate_final_uniswap_value(initial_investment, eth_percent_increase, fees):\n",
    "    return initial_investment * (1 + eth_percent_increase/100)**(1/2) + fees\n",
    "\n",
    "def calculate_apy_difference(v1, v2, n_months):\n",
    "    return 100 * ((v1 / v2)**(12 / n_months) - 1)"
   ]
  },
  {
   "cell_type": "code",
   "execution_count": 3,
   "id": "718a9897-1eeb-45eb-9aec-caa885732e24",
   "metadata": {},
   "outputs": [],
   "source": [
    "initial_investment = 10000\n",
    "eth_percent_increase = 50\n",
    "eth_apy = 4\n",
    "usdc_apy = 8\n",
    "rage_apy = 20  # estimates LP fees collected on Rage\n",
    "uni_apy = 15  # estimate of LP fees on UNI v2\n",
    "n_months = 6"
   ]
  },
  {
   "cell_type": "code",
   "execution_count": 4,
   "id": "04da55bb-3df8-4f06-968e-a9cd3ecb9411",
   "metadata": {},
   "outputs": [
    {
     "name": "stdout",
     "output_type": "stream",
     "text": [
      "rage vault value: 13546\n",
      "uniswap position value: 12971\n",
      "APY difference: 9.07%\n"
     ]
    }
   ],
   "source": [
    "rage_IL = calculate_rage_IL(initial_investment, eth_percent_increase)\n",
    "rage_fees = calculate_fees(initial_investment, rage_apy, n_months)\n",
    "final_eth_value = calculate_post_apy_eth_value(initial_investment/2, eth_apy, n_months, eth_percent_increase)\n",
    "final_usdc_value = calculate_post_apy_usdc_value(initial_investment/2, usdc_apy, n_months)\n",
    "final_rage_vault_value = final_eth_value + final_usdc_value + rage_fees - rage_IL\n",
    "uniswap_fees = calculate_fees(initial_investment, uni_apy, n_months)\n",
    "final_uniswap_position_value = calculate_final_uniswap_value(initial_investment, eth_percent_increase, uniswap_fees)\n",
    "apy_difference = calculate_apy_difference(final_rage_vault_value,final_uniswap_position_value, n_months)\n",
    "print(\"rage vault value:\", int(final_rage_vault_value))\n",
    "print(\"uniswap position value:\", int(final_uniswap_position_value))\n",
    "print(\"APY difference: \" + str(round(apy_difference,2)) + '%')"
   ]
  }
 ],
 "metadata": {
  "kernelspec": {
   "display_name": "Python 3 (ipykernel)",
   "language": "python",
   "name": "python3"
  },
  "language_info": {
   "codemirror_mode": {
    "name": "ipython",
    "version": 3
   },
   "file_extension": ".py",
   "mimetype": "text/x-python",
   "name": "python",
   "nbconvert_exporter": "python",
   "pygments_lexer": "ipython3",
   "version": "3.9.9"
  }
 },
 "nbformat": 4,
 "nbformat_minor": 5
}
